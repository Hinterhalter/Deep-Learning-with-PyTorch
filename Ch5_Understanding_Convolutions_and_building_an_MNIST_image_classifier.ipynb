{
 "cells": [
  {
   "cell_type": "markdown",
   "metadata": {},
   "source": [
    "# MNIST 이미지 데이터를 통한 CNN 이해"
   ]
  },
  {
   "cell_type": "code",
   "execution_count": 1,
   "metadata": {},
   "outputs": [],
   "source": [
    "import torch\n",
    "import torch.nn as nn\n",
    "import torch.nn.functional as F\n",
    "import torch.optim as optim\n",
    "from torchvision import datasets,transforms\n",
    "from torch.autograd import Variable\n",
    "import matplotlib.pyplot as plt\n",
    "%matplotlib inline"
   ]
  },
  {
   "cell_type": "code",
   "execution_count": 2,
   "metadata": {},
   "outputs": [],
   "source": [
    "is_cuda = False\n",
    "if torch.cuda.is_available():\n",
    "    is_cuda = True"
   ]
  },
  {
   "cell_type": "markdown",
   "metadata": {},
   "source": [
    "# 1. 이미지데이터 다운로드 및 이미지 전처리\n",
    "\n",
    "- 데이터셋을 로컬에 가져온 후, DataLoader를 사용하여 데이터를 감싼다.\n",
    "- torchvision 라이브러리의 변환 기능을 사용해 이미지 데이터를 텐서로 변환하고 정규화한다."
   ]
  },
  {
   "cell_type": "code",
   "execution_count": 3,
   "metadata": {},
   "outputs": [],
   "source": [
    "# 이미지 데이터 텐서 변환, 정규화\n",
    "transformation = transforms.Compose([transforms.ToTensor(),\n",
    "                                   transforms.Normalize((0.1307,), (0.3081,))])\n",
    "# MNIST 데이터 다운로드\n",
    "train_dataset = datasets.MNIST('data/', train = True, transform=transformation, download=True)\n",
    "test_dataset = datasets.MNIST('data/', train = False, transform=transformation, download=True)\n",
    "\n",
    "# DataLoader로 다운받은 이미지 데이터를 감싼다.\n",
    "train_loader = torch.utils.data.DataLoader(train_dataset, batch_size=32, shuffle=True)\n",
    "test_loader = torch.utils.data.DataLoader(test_dataset, batch_size=32, shuffle=True)"
   ]
  },
  {
   "cell_type": "markdown",
   "metadata": {},
   "source": [
    "## 1-1) 샘플데이터 시각화"
   ]
  },
  {
   "cell_type": "code",
   "execution_count": 4,
   "metadata": {},
   "outputs": [],
   "source": [
    "sample_data = next(iter(train_loader))"
   ]
  },
  {
   "cell_type": "code",
   "execution_count": 5,
   "metadata": {},
   "outputs": [],
   "source": [
    "def plot_img(image):\n",
    "    image = image.numpy()[0]\n",
    "    mean = 0.1307\n",
    "    std = 0.3081\n",
    "    image = ((mean * image) + std)\n",
    "    plt.imshow(image, cmap='gray')"
   ]
  },
  {
   "cell_type": "code",
   "execution_count": 6,
   "metadata": {},
   "outputs": [
    {
     "data": {
      "image/png": "[encoded data removed]",
      "text/plain": [
       "<Figure size 432x288 with 1 Axes>"
      ]
     },
     "metadata": {
      "needs_background": "light"
     },
     "output_type": "display_data"
    }
   ],
   "source": [
    "plot_img(sample_data[0][2])"
   ]
  },
  {
   "cell_type": "code",
   "execution_count": 7,
   "metadata": {},
   "outputs": [
    {
     "data": {
      "image/png": "[encoded data removed]",
      "text/plain": [
       "<Figure size 432x288 with 1 Axes>"
      ]
     },
     "metadata": {
      "needs_background": "light"
     },
     "output_type": "display_data"
    }
   ],
   "source": [
    "plot_img(sample_data[0][1])"
   ]
  },
  {
   "cell_type": "markdown",
   "metadata": {},
   "source": [
    "# 2. CNN 모델 구축\n",
    "\n",
    "- 생성할 네트워크 아키텍처는 다음으로 구성한다.\n",
    "- Conv2d\n",
    "- MaxPool2d\n",
    "- ReLU\n",
    "- 뷰\n",
    "- 선형레이어"
   ]
  },
  {
   "cell_type": "code",
   "execution_count": 8,
   "metadata": {},
   "outputs": [],
   "source": [
    "class Net(nn.Module):\n",
    "    def __init__(self):\n",
    "        super().__init__()\n",
    "        self.conv1 = nn.Conv2d(1, 10, kernel_size=5)\n",
    "        self.conv2 = nn.Conv2d(10, 20, kernel_size=5)\n",
    "        self.conv2_drop = nn.Dropout2d()\n",
    "        self.fc1 = nn.Linear(320, 50)\n",
    "        self.fc2 = nn.Linear(50, 10)\n",
    "\n",
    "    def forward(self, x):\n",
    "        x = F.relu(F.max_pool2d(self.conv1(x), 2))\n",
    "        x = F.relu(F.max_pool2d(self.conv2_drop(self.conv2(x)), 2))\n",
    "        x = x.view(-1, 320) # 2차원의 텐서를 1차원 벡터로 변형 / view()에서 -1은 다음 파라미터의 크기로 계산하겠다는 의미이다.\n",
    "        x = F.relu(self.fc1(x))\n",
    "        #x = F.dropout(x,p=0.1, training=self.training)\n",
    "        x = self.fc2(x)\n",
    "        return F.log_softmax(x,dim=1)"
   ]
  },
  {
   "cell_type": "code",
   "execution_count": 9,
   "metadata": {},
   "outputs": [],
   "source": [
    "model = Net()\n",
    "if is_cuda:\n",
    "    model.cuda()"
   ]
  },
  {
   "cell_type": "code",
   "execution_count": 10,
   "metadata": {},
   "outputs": [],
   "source": [
    "optimizer = optim.SGD(model.parameters(), lr=0.01)"
   ]
  },
  {
   "cell_type": "code",
   "execution_count": 11,
   "metadata": {},
   "outputs": [],
   "source": [
    "data, target = next(iter(train_loader))"
   ]
  },
  {
   "cell_type": "code",
   "execution_count": 12,
   "metadata": {},
   "outputs": [],
   "source": [
    "if is_cuda:\n",
    "    data = data.cuda()"
   ]
  },
  {
   "cell_type": "code",
   "execution_count": 13,
   "metadata": {},
   "outputs": [],
   "source": [
    "output = model(Variable(data))"
   ]
  },
  {
   "cell_type": "code",
   "execution_count": 14,
   "metadata": {},
   "outputs": [
    {
     "data": {
      "text/plain": [
       "torch.Size([32, 10])"
      ]
     },
     "execution_count": 14,
     "metadata": {},
     "output_type": "execute_result"
    }
   ],
   "source": [
    "output.size()"
   ]
  },
  {
   "cell_type": "code",
   "execution_count": 15,
   "metadata": {},
   "outputs": [
    {
     "data": {
      "text/plain": [
       "torch.Size([32])"
      ]
     },
     "execution_count": 15,
     "metadata": {},
     "output_type": "execute_result"
    }
   ],
   "source": [
    "target.size()"
   ]
  },
  {
   "cell_type": "code",
   "execution_count": 16,
   "metadata": {},
   "outputs": [
    {
     "data": {
      "image/svg+xml": [
       "<?xml version=\"1.0\" encoding=\"UTF-8\" standalone=\"no\"?>\n",
       "<!DOCTYPE svg PUBLIC \"-//W3C//DTD SVG 1.1//EN\"\n",
       " \"http://www.w3.org/Graphics/SVG/1.1/DTD/svg11.dtd\">\n",
       "<!-- Generated by graphviz version 2.40.1 (20161225.0304)\n",
       " -->\n",
       "<!-- Title: %3 Pages: 1 -->\n",
       "<svg width=\"343pt\" height=\"797pt\"\n",
       " viewBox=\"0.00 0.00 343.00 797.00\" xmlns=\"http://www.w3.org/2000/svg\" xmlns:xlink=\"http://www.w3.org/1999/xlink\">\n",
       "<g id=\"graph0\" class=\"graph\" transform=\"scale(1 1) rotate(0) translate(4 793)\">\n",
       "<title>%3</title>\n",
       "<polygon fill=\"#ffffff\" stroke=\"transparent\" points=\"-4,4 -4,-793 339,-793 339,4 -4,4\"/>\n",
       "<!-- 139726312711504 -->\n",
       "<g id=\"node1\" class=\"node\">\n",
       "<title>139726312711504</title>\n",
       "<polygon fill=\"#caff70\" stroke=\"#000000\" points=\"259,-21 134,-21 134,0 259,0 259,-21\"/>\n",
       "<text text-anchor=\"middle\" x=\"196.5\" y=\"-7.4\" font-family=\"Times,serif\" font-size=\"12.00\" fill=\"#000000\">LogSoftmaxBackward</text>\n",
       "</g>\n",
       "<!-- 139726312711560 -->\n",
       "<g id=\"node2\" class=\"node\">\n",
       "<title>139726312711560</title>\n",
       "<polygon fill=\"#d3d3d3\" stroke=\"#000000\" points=\"248.5,-78 144.5,-78 144.5,-57 248.5,-57 248.5,-78\"/>\n",
       "<text text-anchor=\"middle\" x=\"196.5\" y=\"-64.4\" font-family=\"Times,serif\" font-size=\"12.00\" fill=\"#000000\">AddmmBackward</text>\n",
       "</g>\n",
       "<!-- 139726312711560&#45;&gt;139726312711504 -->\n",
       "<g id=\"edge1\" class=\"edge\">\n",
       "<title>139726312711560&#45;&gt;139726312711504</title>\n",
       "<path fill=\"none\" stroke=\"#000000\" d=\"M196.5,-56.7787C196.5,-49.6134 196.5,-39.9517 196.5,-31.3097\"/>\n",
       "<polygon fill=\"#000000\" stroke=\"#000000\" points=\"200.0001,-31.1732 196.5,-21.1732 193.0001,-31.1732 200.0001,-31.1732\"/>\n",
       "</g>\n",
       "<!-- 139726312710440 -->\n",
       "<g id=\"node3\" class=\"node\">\n",
       "<title>139726312710440</title>\n",
       "<polygon fill=\"#add8e6\" stroke=\"#000000\" points=\"131.5,-149 77.5,-149 77.5,-114 131.5,-114 131.5,-149\"/>\n",
       "<text text-anchor=\"middle\" x=\"104.5\" y=\"-121.4\" font-family=\"Times,serif\" font-size=\"12.00\" fill=\"#000000\"> (10)</text>\n",
       "</g>\n",
       "<!-- 139726312710440&#45;&gt;139726312711560 -->\n",
       "<g id=\"edge2\" class=\"edge\">\n",
       "<title>139726312710440&#45;&gt;139726312711560</title>\n",
       "<path fill=\"none\" stroke=\"#000000\" d=\"M130.1271,-113.6724C143.5188,-104.3565 159.7974,-93.0322 172.8816,-83.9302\"/>\n",
       "<polygon fill=\"#000000\" stroke=\"#000000\" points=\"175.1445,-86.6197 181.3548,-78.0358 171.147,-80.8733 175.1445,-86.6197\"/>\n",
       "</g>\n",
       "<!-- 139726312711448 -->\n",
       "<g id=\"node4\" class=\"node\">\n",
       "<title>139726312711448</title>\n",
       "<polygon fill=\"#d3d3d3\" stroke=\"#000000\" points=\"243.5,-142 149.5,-142 149.5,-121 243.5,-121 243.5,-142\"/>\n",
       "<text text-anchor=\"middle\" x=\"196.5\" y=\"-128.4\" font-family=\"Times,serif\" font-size=\"12.00\" fill=\"#000000\">ReluBackward0</text>\n",
       "</g>\n",
       "<!-- 139726312711448&#45;&gt;139726312711560 -->\n",
       "<g id=\"edge3\" class=\"edge\">\n",
       "<title>139726312711448&#45;&gt;139726312711560</title>\n",
       "<path fill=\"none\" stroke=\"#000000\" d=\"M196.5,-120.9317C196.5,-112.0913 196.5,-99.2122 196.5,-88.3135\"/>\n",
       "<polygon fill=\"#000000\" stroke=\"#000000\" points=\"200.0001,-88.2979 196.5,-78.2979 193.0001,-88.2979 200.0001,-88.2979\"/>\n",
       "</g>\n",
       "<!-- 139726312826024 -->\n",
       "<g id=\"node5\" class=\"node\">\n",
       "<title>139726312826024</title>\n",
       "<polygon fill=\"#d3d3d3\" stroke=\"#000000\" points=\"248.5,-213 144.5,-213 144.5,-192 248.5,-192 248.5,-213\"/>\n",
       "<text text-anchor=\"middle\" x=\"196.5\" y=\"-199.4\" font-family=\"Times,serif\" font-size=\"12.00\" fill=\"#000000\">AddmmBackward</text>\n",
       "</g>\n",
       "<!-- 139726312826024&#45;&gt;139726312711448 -->\n",
       "<g id=\"edge4\" class=\"edge\">\n",
       "<title>139726312826024&#45;&gt;139726312711448</title>\n",
       "<path fill=\"none\" stroke=\"#000000\" d=\"M196.5,-191.7166C196.5,-181.3953 196.5,-165.5401 196.5,-152.6896\"/>\n",
       "<polygon fill=\"#000000\" stroke=\"#000000\" points=\"200.0001,-152.3848 196.5,-142.3849 193.0001,-152.3849 200.0001,-152.3848\"/>\n",
       "</g>\n",
       "<!-- 139726312826080 -->\n",
       "<g id=\"node6\" class=\"node\">\n",
       "<title>139726312826080</title>\n",
       "<polygon fill=\"#add8e6\" stroke=\"#000000\" points=\"132.5,-291 78.5,-291 78.5,-256 132.5,-256 132.5,-291\"/>\n",
       "<text text-anchor=\"middle\" x=\"105.5\" y=\"-263.4\" font-family=\"Times,serif\" font-size=\"12.00\" fill=\"#000000\"> (50)</text>\n",
       "</g>\n",
       "<!-- 139726312826080&#45;&gt;139726312826024 -->\n",
       "<g id=\"edge5\" class=\"edge\">\n",
       "<title>139726312826080&#45;&gt;139726312826024</title>\n",
       "<path fill=\"none\" stroke=\"#000000\" d=\"M127.9944,-255.9494C142.2906,-244.7952 160.6989,-230.4327 174.8325,-219.4054\"/>\n",
       "<polygon fill=\"#000000\" stroke=\"#000000\" points=\"177.2741,-221.9397 183.0053,-213.0288 172.9681,-216.4208 177.2741,-221.9397\"/>\n",
       "</g>\n",
       "<!-- 139726312386632 -->\n",
       "<g id=\"node7\" class=\"node\">\n",
       "<title>139726312386632</title>\n",
       "<polygon fill=\"#d3d3d3\" stroke=\"#000000\" points=\"242.5,-284 150.5,-284 150.5,-263 242.5,-263 242.5,-284\"/>\n",
       "<text text-anchor=\"middle\" x=\"196.5\" y=\"-270.4\" font-family=\"Times,serif\" font-size=\"12.00\" fill=\"#000000\">ViewBackward</text>\n",
       "</g>\n",
       "<!-- 139726312386632&#45;&gt;139726312826024 -->\n",
       "<g id=\"edge6\" class=\"edge\">\n",
       "<title>139726312386632&#45;&gt;139726312826024</title>\n",
       "<path fill=\"none\" stroke=\"#000000\" d=\"M196.5,-262.7166C196.5,-252.3953 196.5,-236.5401 196.5,-223.6896\"/>\n",
       "<polygon fill=\"#000000\" stroke=\"#000000\" points=\"200.0001,-223.3848 196.5,-213.3849 193.0001,-223.3849 200.0001,-223.3848\"/>\n",
       "</g>\n",
       "<!-- 139728440158192 -->\n",
       "<g id=\"node8\" class=\"node\">\n",
       "<title>139728440158192</title>\n",
       "<polygon fill=\"#d3d3d3\" stroke=\"#000000\" points=\"243.5,-355 149.5,-355 149.5,-334 243.5,-334 243.5,-355\"/>\n",
       "<text text-anchor=\"middle\" x=\"196.5\" y=\"-341.4\" font-family=\"Times,serif\" font-size=\"12.00\" fill=\"#000000\">ReluBackward0</text>\n",
       "</g>\n",
       "<!-- 139728440158192&#45;&gt;139726312386632 -->\n",
       "<g id=\"edge7\" class=\"edge\">\n",
       "<title>139728440158192&#45;&gt;139726312386632</title>\n",
       "<path fill=\"none\" stroke=\"#000000\" d=\"M196.5,-333.7166C196.5,-323.3953 196.5,-307.5401 196.5,-294.6896\"/>\n",
       "<polygon fill=\"#000000\" stroke=\"#000000\" points=\"200.0001,-294.3848 196.5,-284.3849 193.0001,-294.3849 200.0001,-294.3848\"/>\n",
       "</g>\n",
       "<!-- 139726313290944 -->\n",
       "<g id=\"node9\" class=\"node\">\n",
       "<title>139726313290944</title>\n",
       "<polygon fill=\"#d3d3d3\" stroke=\"#000000\" points=\"287,-419 106,-419 106,-398 287,-398 287,-419\"/>\n",
       "<text text-anchor=\"middle\" x=\"196.5\" y=\"-405.4\" font-family=\"Times,serif\" font-size=\"12.00\" fill=\"#000000\">MaxPool2DWithIndicesBackward</text>\n",
       "</g>\n",
       "<!-- 139726313290944&#45;&gt;139728440158192 -->\n",
       "<g id=\"edge8\" class=\"edge\">\n",
       "<title>139726313290944&#45;&gt;139728440158192</title>\n",
       "<path fill=\"none\" stroke=\"#000000\" d=\"M196.5,-397.9317C196.5,-389.0913 196.5,-376.2122 196.5,-365.3135\"/>\n",
       "<polygon fill=\"#000000\" stroke=\"#000000\" points=\"200.0001,-365.2979 196.5,-355.2979 193.0001,-365.2979 200.0001,-365.2979\"/>\n",
       "</g>\n",
       "<!-- 139726313290384 -->\n",
       "<g id=\"node10\" class=\"node\">\n",
       "<title>139726313290384</title>\n",
       "<polygon fill=\"#d3d3d3\" stroke=\"#000000\" points=\"242,-476 151,-476 151,-455 242,-455 242,-476\"/>\n",
       "<text text-anchor=\"middle\" x=\"196.5\" y=\"-462.4\" font-family=\"Times,serif\" font-size=\"12.00\" fill=\"#000000\">MulBackward0</text>\n",
       "</g>\n",
       "<!-- 139726313290384&#45;&gt;139726313290944 -->\n",
       "<g id=\"edge9\" class=\"edge\">\n",
       "<title>139726313290384&#45;&gt;139726313290944</title>\n",
       "<path fill=\"none\" stroke=\"#000000\" d=\"M196.5,-454.7787C196.5,-447.6134 196.5,-437.9517 196.5,-429.3097\"/>\n",
       "<polygon fill=\"#000000\" stroke=\"#000000\" points=\"200.0001,-429.1732 196.5,-419.1732 193.0001,-429.1732 200.0001,-429.1732\"/>\n",
       "</g>\n",
       "<!-- 139726313290496 -->\n",
       "<g id=\"node11\" class=\"node\">\n",
       "<title>139726313290496</title>\n",
       "<polygon fill=\"#d3d3d3\" stroke=\"#000000\" points=\"275,-533 118,-533 118,-512 275,-512 275,-533\"/>\n",
       "<text text-anchor=\"middle\" x=\"196.5\" y=\"-519.4\" font-family=\"Times,serif\" font-size=\"12.00\" fill=\"#000000\">CudnnConvolutionBackward</text>\n",
       "</g>\n",
       "<!-- 139726313290496&#45;&gt;139726313290384 -->\n",
       "<g id=\"edge10\" class=\"edge\">\n",
       "<title>139726313290496&#45;&gt;139726313290384</title>\n",
       "<path fill=\"none\" stroke=\"#000000\" d=\"M196.5,-511.7787C196.5,-504.6134 196.5,-494.9517 196.5,-486.3097\"/>\n",
       "<polygon fill=\"#000000\" stroke=\"#000000\" points=\"200.0001,-486.1732 196.5,-476.1732 193.0001,-486.1732 200.0001,-486.1732\"/>\n",
       "</g>\n",
       "<!-- 139726313288312 -->\n",
       "<g id=\"node12\" class=\"node\">\n",
       "<title>139726313288312</title>\n",
       "<polygon fill=\"#d3d3d3\" stroke=\"#000000\" points=\"137.5,-597 43.5,-597 43.5,-576 137.5,-576 137.5,-597\"/>\n",
       "<text text-anchor=\"middle\" x=\"90.5\" y=\"-583.4\" font-family=\"Times,serif\" font-size=\"12.00\" fill=\"#000000\">ReluBackward0</text>\n",
       "</g>\n",
       "<!-- 139726313288312&#45;&gt;139726313290496 -->\n",
       "<g id=\"edge11\" class=\"edge\">\n",
       "<title>139726313288312&#45;&gt;139726313290496</title>\n",
       "<path fill=\"none\" stroke=\"#000000\" d=\"M108.0037,-575.9317C124.9587,-565.6948 150.8832,-550.0422 170.2976,-538.3203\"/>\n",
       "<polygon fill=\"#000000\" stroke=\"#000000\" points=\"172.2187,-541.249 178.9703,-533.084 168.6005,-535.2565 172.2187,-541.249\"/>\n",
       "</g>\n",
       "<!-- 139726313288816 -->\n",
       "<g id=\"node13\" class=\"node\">\n",
       "<title>139726313288816</title>\n",
       "<polygon fill=\"#d3d3d3\" stroke=\"#000000\" points=\"181,-661 0,-661 0,-640 181,-640 181,-661\"/>\n",
       "<text text-anchor=\"middle\" x=\"90.5\" y=\"-647.4\" font-family=\"Times,serif\" font-size=\"12.00\" fill=\"#000000\">MaxPool2DWithIndicesBackward</text>\n",
       "</g>\n",
       "<!-- 139726313288816&#45;&gt;139726313288312 -->\n",
       "<g id=\"edge12\" class=\"edge\">\n",
       "<title>139726313288816&#45;&gt;139726313288312</title>\n",
       "<path fill=\"none\" stroke=\"#000000\" d=\"M90.5,-639.9317C90.5,-631.0913 90.5,-618.2122 90.5,-607.3135\"/>\n",
       "<polygon fill=\"#000000\" stroke=\"#000000\" points=\"94.0001,-607.2979 90.5,-597.2979 87.0001,-607.2979 94.0001,-607.2979\"/>\n",
       "</g>\n",
       "<!-- 139726313289712 -->\n",
       "<g id=\"node14\" class=\"node\">\n",
       "<title>139726313289712</title>\n",
       "<polygon fill=\"#d3d3d3\" stroke=\"#000000\" points=\"169,-718 12,-718 12,-697 169,-697 169,-718\"/>\n",
       "<text text-anchor=\"middle\" x=\"90.5\" y=\"-704.4\" font-family=\"Times,serif\" font-size=\"12.00\" fill=\"#000000\">CudnnConvolutionBackward</text>\n",
       "</g>\n",
       "<!-- 139726313289712&#45;&gt;139726313288816 -->\n",
       "<g id=\"edge13\" class=\"edge\">\n",
       "<title>139726313289712&#45;&gt;139726313288816</title>\n",
       "<path fill=\"none\" stroke=\"#000000\" d=\"M90.5,-696.7787C90.5,-689.6134 90.5,-679.9517 90.5,-671.3097\"/>\n",
       "<polygon fill=\"#000000\" stroke=\"#000000\" points=\"94.0001,-671.1732 90.5,-661.1732 87.0001,-671.1732 94.0001,-671.1732\"/>\n",
       "</g>\n",
       "<!-- 139726313287920 -->\n",
       "<g id=\"node15\" class=\"node\">\n",
       "<title>139726313287920</title>\n",
       "<polygon fill=\"#add8e6\" stroke=\"#000000\" points=\"87,-789 12,-789 12,-754 87,-754 87,-789\"/>\n",
       "<text text-anchor=\"middle\" x=\"49.5\" y=\"-761.4\" font-family=\"Times,serif\" font-size=\"12.00\" fill=\"#000000\"> (10, 1, 5, 5)</text>\n",
       "</g>\n",
       "<!-- 139726313287920&#45;&gt;139726313289712 -->\n",
       "<g id=\"edge14\" class=\"edge\">\n",
       "<title>139726313287920&#45;&gt;139726313289712</title>\n",
       "<path fill=\"none\" stroke=\"#000000\" d=\"M60.9208,-753.6724C66.2802,-745.3066 72.6771,-735.3212 78.1488,-726.7799\"/>\n",
       "<polygon fill=\"#000000\" stroke=\"#000000\" points=\"81.1831,-728.5318 83.6303,-718.2234 75.2889,-724.7558 81.1831,-728.5318\"/>\n",
       "</g>\n",
       "<!-- 139726313288984 -->\n",
       "<g id=\"node16\" class=\"node\">\n",
       "<title>139726313288984</title>\n",
       "<polygon fill=\"#add8e6\" stroke=\"#000000\" points=\"159.5,-789 105.5,-789 105.5,-754 159.5,-754 159.5,-789\"/>\n",
       "<text text-anchor=\"middle\" x=\"132.5\" y=\"-761.4\" font-family=\"Times,serif\" font-size=\"12.00\" fill=\"#000000\"> (10)</text>\n",
       "</g>\n",
       "<!-- 139726313288984&#45;&gt;139726313289712 -->\n",
       "<g id=\"edge15\" class=\"edge\">\n",
       "<title>139726313288984&#45;&gt;139726313289712</title>\n",
       "<path fill=\"none\" stroke=\"#000000\" d=\"M120.8007,-753.6724C115.3105,-745.3066 108.7576,-735.3212 103.1524,-726.7799\"/>\n",
       "<polygon fill=\"#000000\" stroke=\"#000000\" points=\"105.95,-724.6636 97.5373,-718.2234 100.0977,-728.5042 105.95,-724.6636\"/>\n",
       "</g>\n",
       "<!-- 139726313289264 -->\n",
       "<g id=\"node17\" class=\"node\">\n",
       "<title>139726313289264</title>\n",
       "<polygon fill=\"#add8e6\" stroke=\"#000000\" points=\"237,-604 156,-604 156,-569 237,-569 237,-604\"/>\n",
       "<text text-anchor=\"middle\" x=\"196.5\" y=\"-576.4\" font-family=\"Times,serif\" font-size=\"12.00\" fill=\"#000000\"> (20, 10, 5, 5)</text>\n",
       "</g>\n",
       "<!-- 139726313289264&#45;&gt;139726313290496 -->\n",
       "<g id=\"edge16\" class=\"edge\">\n",
       "<title>139726313289264&#45;&gt;139726313290496</title>\n",
       "<path fill=\"none\" stroke=\"#000000\" d=\"M196.5,-568.6724C196.5,-560.8405 196.5,-551.5893 196.5,-543.4323\"/>\n",
       "<polygon fill=\"#000000\" stroke=\"#000000\" points=\"200.0001,-543.2234 196.5,-533.2234 193.0001,-543.2235 200.0001,-543.2234\"/>\n",
       "</g>\n",
       "<!-- 139726313289208 -->\n",
       "<g id=\"node18\" class=\"node\">\n",
       "<title>139726313289208</title>\n",
       "<polygon fill=\"#add8e6\" stroke=\"#000000\" points=\"309.5,-604 255.5,-604 255.5,-569 309.5,-569 309.5,-604\"/>\n",
       "<text text-anchor=\"middle\" x=\"282.5\" y=\"-576.4\" font-family=\"Times,serif\" font-size=\"12.00\" fill=\"#000000\"> (20)</text>\n",
       "</g>\n",
       "<!-- 139726313289208&#45;&gt;139726313290496 -->\n",
       "<g id=\"edge17\" class=\"edge\">\n",
       "<title>139726313289208&#45;&gt;139726313290496</title>\n",
       "<path fill=\"none\" stroke=\"#000000\" d=\"M258.5442,-568.6724C246.1462,-559.446 231.1013,-548.2498 218.9317,-539.1934\"/>\n",
       "<polygon fill=\"#000000\" stroke=\"#000000\" points=\"220.7694,-536.1981 210.6575,-533.0358 216.5903,-541.8138 220.7694,-536.1981\"/>\n",
       "</g>\n",
       "<!-- 139726312388144 -->\n",
       "<g id=\"node19\" class=\"node\">\n",
       "<title>139726312388144</title>\n",
       "<polygon fill=\"#d3d3d3\" stroke=\"#000000\" points=\"334,-284 261,-284 261,-263 334,-263 334,-284\"/>\n",
       "<text text-anchor=\"middle\" x=\"297.5\" y=\"-270.4\" font-family=\"Times,serif\" font-size=\"12.00\" fill=\"#000000\">TBackward</text>\n",
       "</g>\n",
       "<!-- 139726312388144&#45;&gt;139726312826024 -->\n",
       "<g id=\"edge18\" class=\"edge\">\n",
       "<title>139726312388144&#45;&gt;139726312826024</title>\n",
       "<path fill=\"none\" stroke=\"#000000\" d=\"M282.1603,-262.7166C265.6024,-251.0769 239.033,-232.3994 219.8726,-218.9303\"/>\n",
       "<polygon fill=\"#000000\" stroke=\"#000000\" points=\"221.8469,-216.0399 211.6532,-213.1522 217.8212,-221.7665 221.8469,-216.0399\"/>\n",
       "</g>\n",
       "<!-- 139726312389712 -->\n",
       "<g id=\"node20\" class=\"node\">\n",
       "<title>139726312389712</title>\n",
       "<polygon fill=\"#add8e6\" stroke=\"#000000\" points=\"329,-362 266,-362 266,-327 329,-327 329,-362\"/>\n",
       "<text text-anchor=\"middle\" x=\"297.5\" y=\"-334.4\" font-family=\"Times,serif\" font-size=\"12.00\" fill=\"#000000\"> (50, 320)</text>\n",
       "</g>\n",
       "<!-- 139726312389712&#45;&gt;139726312388144 -->\n",
       "<g id=\"edge19\" class=\"edge\">\n",
       "<title>139726312389712&#45;&gt;139726312388144</title>\n",
       "<path fill=\"none\" stroke=\"#000000\" d=\"M297.5,-326.9494C297.5,-317.058 297.5,-304.6435 297.5,-294.2693\"/>\n",
       "<polygon fill=\"#000000\" stroke=\"#000000\" points=\"301.0001,-294.0288 297.5,-284.0288 294.0001,-294.0289 301.0001,-294.0288\"/>\n",
       "</g>\n",
       "<!-- 139726312710272 -->\n",
       "<g id=\"node21\" class=\"node\">\n",
       "<title>139726312710272</title>\n",
       "<polygon fill=\"#d3d3d3\" stroke=\"#000000\" points=\"335,-142 262,-142 262,-121 335,-121 335,-142\"/>\n",
       "<text text-anchor=\"middle\" x=\"298.5\" y=\"-128.4\" font-family=\"Times,serif\" font-size=\"12.00\" fill=\"#000000\">TBackward</text>\n",
       "</g>\n",
       "<!-- 139726312710272&#45;&gt;139726312711560 -->\n",
       "<g id=\"edge20\" class=\"edge\">\n",
       "<title>139726312710272&#45;&gt;139726312711560</title>\n",
       "<path fill=\"none\" stroke=\"#000000\" d=\"M281.6568,-120.9317C265.4155,-110.7411 240.621,-95.1838 221.9676,-83.4797\"/>\n",
       "<polygon fill=\"#000000\" stroke=\"#000000\" points=\"223.6991,-80.4342 213.3682,-78.084 219.9787,-86.3637 223.6991,-80.4342\"/>\n",
       "</g>\n",
       "<!-- 139726312827368 -->\n",
       "<g id=\"node22\" class=\"node\">\n",
       "<title>139726312827368</title>\n",
       "<polygon fill=\"#add8e6\" stroke=\"#000000\" points=\"327,-220 270,-220 270,-185 327,-185 327,-220\"/>\n",
       "<text text-anchor=\"middle\" x=\"298.5\" y=\"-192.4\" font-family=\"Times,serif\" font-size=\"12.00\" fill=\"#000000\"> (10, 50)</text>\n",
       "</g>\n",
       "<!-- 139726312827368&#45;&gt;139726312710272 -->\n",
       "<g id=\"edge21\" class=\"edge\">\n",
       "<title>139726312827368&#45;&gt;139726312710272</title>\n",
       "<path fill=\"none\" stroke=\"#000000\" d=\"M298.5,-184.9494C298.5,-175.058 298.5,-162.6435 298.5,-152.2693\"/>\n",
       "<polygon fill=\"#000000\" stroke=\"#000000\" points=\"302.0001,-152.0288 298.5,-142.0288 295.0001,-152.0289 302.0001,-152.0288\"/>\n",
       "</g>\n",
       "</g>\n",
       "</svg>\n"
      ],
      "text/plain": [
       "<graphviz.dot.Digraph at 0x7f14913c25c0>"
      ]
     },
     "execution_count": 16,
     "metadata": {},
     "output_type": "execute_result"
    }
   ],
   "source": [
    "# 모델 시각화\n",
    "import re\n",
    "from torchviz import make_dot\n",
    "\n",
    "make_dot(model(Variable(data)))"
   ]
  },
  {
   "cell_type": "code",
   "execution_count": 17,
   "metadata": {},
   "outputs": [],
   "source": [
    "# fit 함수는 특정 에폭에 대한 모델의 오차와 정확도를 반환한다.\n",
    "\n",
    "def fit(epoch, model, data_loader, phase='training', volatile=False):\n",
    "    if phase == 'training':\n",
    "        model.train()\n",
    "    if phase == 'validation':\n",
    "        model.eval()\n",
    "        volatile=True\n",
    "    \n",
    "    running_loss = 0.0\n",
    "    running_correct = 0\n",
    "    \n",
    "    for batch_idx, (data, target) in enumerate(data_loader):\n",
    "        if is_cuda:\n",
    "            data, target = data.cuda(), target.cuda()\n",
    "        data, target = Variable(data, volatile), Variable(target)\n",
    "        \n",
    "        if phase == 'training':\n",
    "            optimizer.zero_grad()\n",
    "        output = model(data)\n",
    "        loss = F.nll_loss(output, target)\n",
    "        \n",
    "        running_loss += F.nll_loss(output, target, size_average=False).data\n",
    "        preds = output.data.max(dim=1, keepdim=True)[1]\n",
    "        running_correct += preds.eq(target.data.view_as(preds)).cpu().sum()\n",
    "        \n",
    "        if phase == 'training':\n",
    "            loss.backward()\n",
    "            optimizer.step()\n",
    "    \n",
    "    loss = running_loss.item() / len(data_loader.dataset)\n",
    "    accuracy = 100.0 * running_correct.item() / len(data_loader.dataset)\n",
    "    \n",
    "    print(f'{phase} loss is {loss:{5}.{2}} and {phase} accuracy is {running_correct}/{len(data_loader.dataset)} {accuracy:{10}.{4}}')\n",
    "    \n",
    "    return loss,accuracy"
   ]
  },
  {
   "cell_type": "markdown",
   "metadata": {},
   "source": [
    "#### __fit 메서드는 학습과 검증 단계를 구분해 다른 로직을 수행한다. 다른 로직으로 수행하는 이유는 다음과 같다.__\n",
    "#### - 학습 모드에서는 드롭아웃을 적용해 일정 비율의 값을 제거한다. 드롭아웃은 검증 또는 테스트 단계에서 적용되면 안된다.\n",
    "#### - 학습 모드의 경우, 기울기를 계산하고 모델의 파라미터 값을 변경한다. 그러나 검증 및 테스트 단계에서는 이러한 역전파를 수행하고 파라미터를 변경하는 작업이 필요 없다."
   ]
  },
  {
   "cell_type": "markdown",
   "metadata": {},
   "source": [
    "# 3. 모델 학습"
   ]
  },
  {
   "cell_type": "code",
   "execution_count": 18,
   "metadata": {},
   "outputs": [
    {
     "name": "stderr",
     "output_type": "stream",
     "text": [
      "/home/pirl/anaconda3/envs/pytorch/lib/python3.6/site-packages/torch/nn/_reduction.py:43: UserWarning: size_average and reduce args will be deprecated, please use reduction='sum' instead.\n",
      "  warnings.warn(warning.format(ret))\n"
     ]
    },
    {
     "name": "stdout",
     "output_type": "stream",
     "text": [
      "training loss is  0.75 and training accuracy is 45644/60000      76.07\n",
      "validation loss is  0.16 and validation accuracy is 9518/10000      95.18\n",
      "training loss is  0.21 and training accuracy is 56320/60000      93.87\n",
      "validation loss is 0.099 and validation accuracy is 9696/10000      96.96\n",
      "training loss is  0.15 and training accuracy is 57272/60000      95.45\n",
      "validation loss is 0.071 and validation accuracy is 9777/10000      97.77\n",
      "training loss is  0.13 and training accuracy is 57813/60000      96.36\n",
      "validation loss is 0.059 and validation accuracy is 9804/10000      98.04\n",
      "training loss is  0.11 and training accuracy is 58073/60000      96.79\n",
      "validation loss is 0.056 and validation accuracy is 9819/10000      98.19\n",
      "training loss is   0.1 and training accuracy is 58265/60000      97.11\n",
      "validation loss is  0.05 and validation accuracy is 9848/10000      98.48\n",
      "training loss is  0.09 and training accuracy is 58387/60000      97.31\n",
      "validation loss is 0.045 and validation accuracy is 9858/10000      98.58\n",
      "training loss is 0.084 and training accuracy is 58506/60000      97.51\n",
      "validation loss is 0.039 and validation accuracy is 9877/10000      98.77\n",
      "training loss is 0.079 and training accuracy is 58607/60000      97.68\n",
      "validation loss is 0.037 and validation accuracy is 9886/10000      98.86\n",
      "training loss is 0.072 and training accuracy is 58732/60000      97.89\n",
      "validation loss is 0.038 and validation accuracy is 9870/10000       98.7\n",
      "training loss is  0.07 and training accuracy is 58766/60000      97.94\n",
      "validation loss is 0.037 and validation accuracy is 9877/10000      98.77\n",
      "training loss is 0.068 and training accuracy is 58772/60000      97.95\n",
      "validation loss is 0.035 and validation accuracy is 9888/10000      98.88\n",
      "training loss is 0.065 and training accuracy is 58837/60000      98.06\n",
      "validation loss is 0.032 and validation accuracy is 9894/10000      98.94\n",
      "training loss is 0.061 and training accuracy is 58914/60000      98.19\n",
      "validation loss is 0.034 and validation accuracy is 9886/10000      98.86\n",
      "training loss is  0.06 and training accuracy is 58926/60000      98.21\n",
      "validation loss is  0.03 and validation accuracy is 9899/10000      98.99\n",
      "training loss is 0.057 and training accuracy is 58959/60000      98.27\n",
      "validation loss is 0.033 and validation accuracy is 9887/10000      98.87\n",
      "training loss is 0.056 and training accuracy is 58978/60000       98.3\n",
      "validation loss is 0.033 and validation accuracy is 9892/10000      98.92\n",
      "training loss is 0.053 and training accuracy is 59054/60000      98.42\n",
      "validation loss is  0.03 and validation accuracy is 9901/10000      99.01\n",
      "training loss is 0.053 and training accuracy is 59034/60000      98.39\n",
      "validation loss is  0.03 and validation accuracy is 9899/10000      98.99\n"
     ]
    }
   ],
   "source": [
    "# train과 test의 loss, accuracy를 리스트형식으로 저장\n",
    "train_losses, train_accuracy = [], []\n",
    "val_losses, val_accuracy = [],[]\n",
    "\n",
    "# 모델 학습을 20회 반복\n",
    "for epoch in range(1,20):\n",
    "    epoch_loss, epoch_accuracy = fit(epoch, model, train_loader, phase = 'training')\n",
    "    val_epoch_loss, val_epoch_accuracy = fit(epoch, model, test_loader, phase = 'validation')\n",
    "    train_losses.append(epoch_loss)\n",
    "    train_accuracy.append(epoch_accuracy)\n",
    "    val_losses.append(val_epoch_loss)\n",
    "    val_accuracy.append(val_epoch_accuracy)"
   ]
  },
  {
   "cell_type": "markdown",
   "metadata": {},
   "source": [
    "## 3-1) Train, Test Loss 시각화"
   ]
  },
  {
   "cell_type": "code",
   "execution_count": 19,
   "metadata": {},
   "outputs": [
    {
     "data": {
      "text/plain": [
       "<matplotlib.legend.Legend at 0x7f149143e438>"
      ]
     },
     "execution_count": 19,
     "metadata": {},
     "output_type": "execute_result"
    },
    {
     "data": {
      "image/png": "[encoded data removed]",
      "text/plain": [
       "<Figure size 432x288 with 1 Axes>"
      ]
     },
     "metadata": {
      "needs_background": "light"
     },
     "output_type": "display_data"
    }
   ],
   "source": [
    "plt.plot(range(1, len(train_losses)+1), train_losses, 'b--', label = 'training loss')\n",
    "plt.plot(range(1, len(val_losses)+1), val_losses, 'r', label = 'validation loss')\n",
    "plt.legend()"
   ]
  },
  {
   "cell_type": "markdown",
   "metadata": {},
   "source": [
    "## 3-2) Train, Test Accuracy 시각화"
   ]
  },
  {
   "cell_type": "code",
   "execution_count": 20,
   "metadata": {},
   "outputs": [
    {
     "data": {
      "text/plain": [
       "<matplotlib.legend.Legend at 0x7f147d272e80>"
      ]
     },
     "execution_count": 20,
     "metadata": {},
     "output_type": "execute_result"
    },
    {
     "data": {
      "image/png": "[encoded data removed]",
      "text/plain": [
       "<Figure size 432x288 with 1 Axes>"
      ]
     },
     "metadata": {
      "needs_background": "light"
     },
     "output_type": "display_data"
    }
   ],
   "source": [
    "plt.plot(range(1, len(train_accuracy)+1), train_accuracy, 'b--', label = 'train accuracy')\n",
    "plt.plot(range(1, len(val_accuracy)+1), val_accuracy, 'r', label = 'val accuracy')\n",
    "plt.legend()"
   ]
  },
  {
   "cell_type": "markdown",
   "metadata": {},
   "source": [
    "#### - 20회 에폭을 마친 아키텍처는 Test Accuracy가 __98.99%__ 까지 달성했다.\n",
    "#### - 간단한 컨볼루션 레이어를 통해 좋은 결과를 얻을 수 있었다."
   ]
  },
  {
   "cell_type": "code",
   "execution_count": null,
   "metadata": {},
   "outputs": [],
   "source": []
  }
 ],
 "metadata": {
  "kernelspec": {
   "display_name": "pytorch",
   "language": "python",
   "name": "pytorch"
  },
  "language_info": {
   "codemirror_mode": {
    "name": "ipython",
    "version": 3
   },
   "file_extension": ".py",
   "mimetype": "text/x-python",
   "name": "python",
   "nbconvert_exporter": "python",
   "pygments_lexer": "ipython3",
   "version": "3.6.10"
  }
 },
 "nbformat": 4,
 "nbformat_minor": 4
}
