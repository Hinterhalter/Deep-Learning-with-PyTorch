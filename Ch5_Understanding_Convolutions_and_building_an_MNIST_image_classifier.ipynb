{
 "cells": [
  {
   "cell_type": "markdown",
   "metadata": {},
   "source": [
    "# MNIST 이미지 데이터를 통한 CNN 이해"
   ]
  },
  {
   "cell_type": "code",
   "execution_count": 1,
   "metadata": {},
   "outputs": [],
   "source": [
    "import torch\n",
    "import torch.nn as nn\n",
    "import torch.nn.functional as F\n",
    "import torch.optim as optim\n",
    "from torchvision import datasets,transforms\n",
    "from torch.autograd import Variable\n",
    "import matplotlib.pyplot as plt\n",
    "%matplotlib inline"
   ]
  },
  {
   "cell_type": "code",
   "execution_count": 2,
   "metadata": {},
   "outputs": [],
   "source": [
    "is_cuda = False\n",
    "if torch.cuda.is_available():\n",
    "    is_cuda = True"
   ]
  },
  {
   "cell_type": "markdown",
   "metadata": {},
   "source": [
    "# 1. 이미지데이터 다운로드 및 이미지 전처리\n",
    "\n",
    "- 데이터셋을 로컬에 가져온 후, DataLoader를 사용하여 데이터를 감싼다.\n",
    "- torchvision 라이브러리의 변환 기능을 사용해 이미지 데이터를 텐서로 변환하고 정규화한다."
   ]
  },
  {
   "cell_type": "code",
   "execution_count": 3,
   "metadata": {},
   "outputs": [],
   "source": [
    "# 이미지 데이터 텐서 변환, 정규화\n",
    "transformation = transforms.Compose([transforms.ToTensor(),\n",
    "                                   transforms.Normalize((0.1307,), (0.3081,))])\n",
    "# MNIST 데이터 다운로드\n",
    "train_dataset = datasets.MNIST('data/', train = True, transform=transformation, download=True)\n",
    "test_dataset = datasets.MNIST('data/', train = False, transform=transformation, download=True)\n",
    "\n",
    "# DataLoader로 다운받은 이미지 데이터를 감싼다.\n",
    "train_loader = torch.utils.data.DataLoader(train_dataset, batch_size=32, shuffle=True)\n",
    "test_loader = torch.utils.data.DataLoader(test_dataset, batch_size=32, shuffle=True)"
   ]
  },
  {
   "cell_type": "markdown",
   "metadata": {},
   "source": [
    "## 1-1) 샘플데이터 시각화"
   ]
  },
  {
   "cell_type": "code",
   "execution_count": 4,
   "metadata": {},
   "outputs": [],
   "source": [
    "sample_data = next(iter(train_loader))"
   ]
  },
  {
   "cell_type": "code",
   "execution_count": 5,
   "metadata": {},
   "outputs": [],
   "source": [
    "def plot_img(image):\n",
    "    image = image.numpy()[0]\n",
    "    mean = 0.1307\n",
    "    std = 0.3081\n",
    "    image = ((mean * image) + std)\n",
    "    plt.imshow(image, cmap='gray')"
   ]
  },
  {
   "cell_type": "code",
   "execution_count": 6,
   "metadata": {},
   "outputs": [
    {
     "data": {
      "image/png": "[encoded data removed]",
      "text/plain": [
       "<Figure size 432x288 with 1 Axes>"
      ]
     },
     "metadata": {
      "needs_background": "light"
     },
     "output_type": "display_data"
    }
   ],
   "source": [
    "plot_img(sample_data[0][2])"
   ]
  },
  {
   "cell_type": "code",
   "execution_count": 7,
   "metadata": {},
   "outputs": [
    {
     "data": {
      "image/png": "[encoded data removed]",
      "text/plain": [
       "<Figure size 432x288 with 1 Axes>"
      ]
     },
     "metadata": {
      "needs_background": "light"
     },
     "output_type": "display_data"
    }
   ],
   "source": [
    "plot_img(sample_data[0][1])"
   ]
  },
  {
   "cell_type": "markdown",
   "metadata": {},
   "source": [
    "# 2. CNN 모델 구축\n",
    "\n",
    "- 생성할 네트워크 아키텍처는 다음으로 구성한다.\n",
    "- Conv2d\n",
    "- MaxPool2d\n",
    "- ReLU\n",
    "- 뷰\n",
    "- 선형레이어"
   ]
  },
  {
   "cell_type": "code",
   "execution_count": 8,
   "metadata": {},
   "outputs": [],
   "source": [
    "class Net(nn.Module):\n",
    "    def __init__(self):\n",
    "        super().__init__()\n",
    "        self.conv1 = nn.Conv2d(1, 10, kernel_size=5)\n",
    "        self.conv2 = nn.Conv2d(10, 20, kernel_size=5)\n",
    "        self.conv2_drop = nn.Dropout2d()\n",
    "        self.fc1 = nn.Linear(320, 50)\n",
    "        self.fc2 = nn.Linear(50, 10)\n",
    "\n",
    "    def forward(self, x):\n",
    "        x = F.relu(F.max_pool2d(self.conv1(x), 2))\n",
    "        x = F.relu(F.max_pool2d(self.conv2_drop(self.conv2(x)), 2))\n",
    "        x = x.view(-1, 320) # 2차원의 텐서를 1차원 벡터로 변형 / view()에서 -1은 다음 파라미터의 크기로 계산하겠다는 의미이다.\n",
    "        x = F.relu(self.fc1(x))\n",
    "        #x = F.dropout(x,p=0.1, training=self.training)\n",
    "        x = self.fc2(x)\n",
    "        return F.log_softmax(x,dim=1)"
   ]
  },
  {
   "cell_type": "code",
   "execution_count": 9,
   "metadata": {},
   "outputs": [],
   "source": [
    "model = Net()\n",
    "if is_cuda:\n",
    "    model.cuda()"
   ]
  },
  {
   "cell_type": "code",
   "execution_count": 10,
   "metadata": {},
   "outputs": [],
   "source": [
    "optimizer = optim.SGD(model.parameters(), lr=0.01)"
   ]
  },
  {
   "cell_type": "code",
   "execution_count": 11,
   "metadata": {},
   "outputs": [],
   "source": [
    "data, target = next(iter(train_loader))"
   ]
  },
  {
   "cell_type": "code",
   "execution_count": 12,
   "metadata": {},
   "outputs": [],
   "source": [
    "if is_cuda:\n",
    "    data = data.cuda()"
   ]
  },
  {
   "cell_type": "code",
   "execution_count": 13,
   "metadata": {},
   "outputs": [],
   "source": [
    "output = model(Variable(data))"
   ]
  },
  {
   "cell_type": "code",
   "execution_count": 14,
   "metadata": {},
   "outputs": [
    {
     "data": {
      "text/plain": [
       "torch.Size([32, 10])"
      ]
     },
     "execution_count": 14,
     "metadata": {},
     "output_type": "execute_result"
    }
   ],
   "source": [
    "output.size()"
   ]
  },
  {
   "cell_type": "code",
   "execution_count": 15,
   "metadata": {},
   "outputs": [
    {
     "data": {
      "text/plain": [
       "torch.Size([32])"
      ]
     },
     "execution_count": 15,
     "metadata": {},
     "output_type": "execute_result"
    }
   ],
   "source": [
    "target.size()"
   ]
  },
  {
   "cell_type": "code",
   "execution_count": 16,
   "metadata": {},
   "outputs": [],
   "source": [
    "# fit 함수는 특정 에폭에 대한 모델의 오차와 정확도를 반환한다.\n",
    "\n",
    "def fit(epoch, model, data_loader, phase='training', volatile=False):\n",
    "    if phase == 'training':\n",
    "        model.train()\n",
    "    if phase == 'validation':\n",
    "        model.eval()\n",
    "        volatile=True\n",
    "    \n",
    "    running_loss = 0.0\n",
    "    running_correct = 0\n",
    "    \n",
    "    for batch_idx, (data, target) in enumerate(data_loader):\n",
    "        if is_cuda:\n",
    "            data, target = data.cuda(), target.cuda()\n",
    "        data, target = Variable(data, volatile), Variable(target)\n",
    "        \n",
    "        if phase == 'training':\n",
    "            optimizer.zero_grad()\n",
    "        output = model(data)\n",
    "        loss = F.nll_loss(output, target)\n",
    "        \n",
    "        running_loss += F.nll_loss(output, target, size_average=False).data\n",
    "        preds = output.data.max(dim=1, keepdim=True)[1]\n",
    "        running_correct += preds.eq(target.data.view_as(preds)).cpu().sum()\n",
    "        \n",
    "        if phase == 'training':\n",
    "            loss.backward()\n",
    "            optimizer.step()\n",
    "    \n",
    "    loss = running_loss.item() / len(data_loader.dataset)\n",
    "    accuracy = 100.0 * running_correct.item() / len(data_loader.dataset)\n",
    "    \n",
    "    print(f'{phase} loss is {loss:{5}.{2}} and {phase} accuracy is {running_correct}/{len(data_loader.dataset)} {accuracy:{10}.{4}}')\n",
    "    \n",
    "    return loss,accuracy"
   ]
  },
  {
   "cell_type": "markdown",
   "metadata": {},
   "source": [
    "#### __fit 메서드는 학습과 검증 단계를 구분해 다른 로직을 수행한다. 다른 로직으로 수행하는 이유는 다음과 같다.__\n",
    "#### - 학습 모드에서는 드롭아웃을 적용해 일정 비율의 값을 제거한다. 드롭아웃은 검증 또는 테스트 단계에서 적용되면 안된다.\n",
    "#### - 학습 모드의 경우, 기울기를 계산하고 모델의 파라미터 값을 변경한다. 그러나 검증 및 테스트 단계에서는 이러한 역전파를 수행하고 파라미터를 변경하는 작업이 필요 없다."
   ]
  },
  {
   "cell_type": "markdown",
   "metadata": {},
   "source": [
    "# 3. 모델 학습"
   ]
  },
  {
   "cell_type": "code",
   "execution_count": 17,
   "metadata": {},
   "outputs": [
    {
     "name": "stderr",
     "output_type": "stream",
     "text": [
      "/home/pirl/anaconda3/envs/pytorch/lib/python3.6/site-packages/torch/nn/_reduction.py:43: UserWarning: size_average and reduce args will be deprecated, please use reduction='sum' instead.\n",
      "  warnings.warn(warning.format(ret))\n"
     ]
    },
    {
     "name": "stdout",
     "output_type": "stream",
     "text": [
      "training loss is  0.59 and training accuracy is 49000/60000      81.67\n",
      "validation loss is  0.15 and validation accuracy is 9543/10000      95.43\n",
      "training loss is  0.21 and training accuracy is 56403/60000       94.0\n",
      "validation loss is  0.09 and validation accuracy is 9737/10000      97.37\n",
      "training loss is  0.16 and training accuracy is 57278/60000      95.46\n",
      "validation loss is 0.071 and validation accuracy is 9777/10000      97.77\n",
      "training loss is  0.13 and training accuracy is 57663/60000      96.11\n",
      "validation loss is 0.059 and validation accuracy is 9819/10000      98.19\n",
      "training loss is  0.12 and training accuracy is 57996/60000      96.66\n",
      "validation loss is 0.052 and validation accuracy is 9825/10000      98.25\n",
      "training loss is   0.1 and training accuracy is 58155/60000      96.92\n",
      "validation loss is  0.05 and validation accuracy is 9837/10000      98.37\n",
      "training loss is 0.097 and training accuracy is 58279/60000      97.13\n",
      "validation loss is 0.043 and validation accuracy is 9863/10000      98.63\n",
      "training loss is 0.089 and training accuracy is 58406/60000      97.34\n",
      "validation loss is  0.04 and validation accuracy is 9863/10000      98.63\n",
      "training loss is 0.082 and training accuracy is 58507/60000      97.51\n",
      "validation loss is 0.039 and validation accuracy is 9876/10000      98.76\n",
      "training loss is 0.078 and training accuracy is 58569/60000      97.61\n",
      "validation loss is 0.037 and validation accuracy is 9871/10000      98.71\n",
      "training loss is 0.075 and training accuracy is 58664/60000      97.77\n",
      "validation loss is 0.036 and validation accuracy is 9878/10000      98.78\n",
      "training loss is 0.072 and training accuracy is 58719/60000      97.86\n",
      "validation loss is 0.035 and validation accuracy is 9890/10000       98.9\n",
      "training loss is  0.07 and training accuracy is 58781/60000      97.97\n",
      "validation loss is 0.033 and validation accuracy is 9889/10000      98.89\n",
      "training loss is 0.066 and training accuracy is 58794/60000      97.99\n",
      "validation loss is 0.031 and validation accuracy is 9888/10000      98.88\n",
      "training loss is 0.064 and training accuracy is 58862/60000       98.1\n",
      "validation loss is 0.035 and validation accuracy is 9885/10000      98.85\n",
      "training loss is 0.063 and training accuracy is 58848/60000      98.08\n",
      "validation loss is 0.031 and validation accuracy is 9904/10000      99.04\n",
      "training loss is 0.059 and training accuracy is 58927/60000      98.21\n",
      "validation loss is 0.031 and validation accuracy is 9899/10000      98.99\n",
      "training loss is 0.059 and training accuracy is 58966/60000      98.28\n",
      "validation loss is 0.031 and validation accuracy is 9896/10000      98.96\n",
      "training loss is 0.056 and training accuracy is 58976/60000      98.29\n",
      "validation loss is 0.029 and validation accuracy is 9898/10000      98.98\n"
     ]
    }
   ],
   "source": [
    "# train과 test의 loss, accuracy를 리스트형식으로 저장\n",
    "train_losses, train_accuracy = [], []\n",
    "val_losses, val_accuracy = [],[]\n",
    "\n",
    "# 모델 학습을 20회 반복\n",
    "for epoch in range(1,20):\n",
    "    epoch_loss, epoch_accuracy = fit(epoch, model, train_loader, phase = 'training')\n",
    "    val_epoch_loss, val_epoch_accuracy = fit(epoch, model, test_loader, phase = 'validation')\n",
    "    train_losses.append(epoch_loss)\n",
    "    train_accuracy.append(epoch_accuracy)\n",
    "    val_losses.append(val_epoch_loss)\n",
    "    val_accuracy.append(val_epoch_accuracy)"
   ]
  },
  {
   "cell_type": "markdown",
   "metadata": {},
   "source": [
    "## 3-1) Train, Test Loss 시각화"
   ]
  },
  {
   "cell_type": "code",
   "execution_count": 18,
   "metadata": {},
   "outputs": [
    {
     "data": {
      "text/plain": [
       "<matplotlib.legend.Legend at 0x7f6a5da79780>"
      ]
     },
     "execution_count": 18,
     "metadata": {},
     "output_type": "execute_result"
    },
    {
     "data": {
      "image/png": "[encoded data removed]",
      "text/plain": [
       "<Figure size 432x288 with 1 Axes>"
      ]
     },
     "metadata": {
      "needs_background": "light"
     },
     "output_type": "display_data"
    }
   ],
   "source": [
    "plt.plot(range(1, len(train_losses)+1), train_losses, 'b--', label = 'training loss')\n",
    "plt.plot(range(1, len(val_losses)+1), val_losses, 'r', label = 'validation loss')\n",
    "plt.legend()"
   ]
  },
  {
   "cell_type": "markdown",
   "metadata": {},
   "source": [
    "## 3-2) Train, Test Accuracy 시각화"
   ]
  },
  {
   "cell_type": "code",
   "execution_count": 19,
   "metadata": {},
   "outputs": [
    {
     "data": {
      "text/plain": [
       "<matplotlib.legend.Legend at 0x7f6a5da32908>"
      ]
     },
     "execution_count": 19,
     "metadata": {},
     "output_type": "execute_result"
    },
    {
     "data": {
      "image/png": "[encoded data removed]",
      "text/plain": [
       "<Figure size 432x288 with 1 Axes>"
      ]
     },
     "metadata": {
      "needs_background": "light"
     },
     "output_type": "display_data"
    }
   ],
   "source": [
    "plt.plot(range(1, len(train_accuracy)+1), train_accuracy, 'b--', label = 'train accuracy')\n",
    "plt.plot(range(1, len(val_accuracy)+1), val_accuracy, 'r', label = 'val accuracy')\n",
    "plt.legend()"
   ]
  },
  {
   "cell_type": "markdown",
   "metadata": {},
   "source": [
    "#### - 20회 에폭을 마친 아키텍처는 Test Accuracy가 __99.2%__ 까지 달성했다.\n",
    "#### - 간단한 컨볼루션 레이어를 통해 좋은 결과를 얻을 수 있었다."
   ]
  }
 ],
 "metadata": {
  "kernelspec": {
   "display_name": "pytorch",
   "language": "python",
   "name": "pytorch"
  },
  "language_info": {
   "codemirror_mode": {
    "name": "ipython",
    "version": 3
   },
   "file_extension": ".py",
   "mimetype": "text/x-python",
   "name": "python",
   "nbconvert_exporter": "python",
   "pygments_lexer": "ipython3",
   "version": "3.6.10"
  }
 },
 "nbformat": 4,
 "nbformat_minor": 4
}
