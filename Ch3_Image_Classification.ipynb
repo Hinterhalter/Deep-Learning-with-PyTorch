{
 "cells": [
  {
   "cell_type": "markdown",
   "metadata": {},
   "source": [
    "# __고양이 개 분류__\n",
    "## 딥러닝을 이용한 이미지 분류"
   ]
  },
  {
   "cell_type": "code",
   "execution_count": 21,
   "metadata": {},
   "outputs": [],
   "source": [
    "from glob import glob\n",
    "import os\n",
    "import numpy as np\n",
    "import matplotlib.pyplot as plt\n",
    "import shutil\n",
    "from torchvision import transforms\n",
    "from torchvision import models\n",
    "\n",
    "import torch\n",
    "from torch.autograd import Variable\n",
    "import torch.nn as nn\n",
    "from torch import optim\n",
    "from torch.optim import lr_scheduler\n",
    "from torchvision.datasets import ImageFolder\n",
    "from torchvision.utils import make_grid\n",
    "import time\n",
    "%matplotlib inline"
   ]
  },
  {
   "cell_type": "code",
   "execution_count": 2,
   "metadata": {},
   "outputs": [],
   "source": [
    "def imshow(inp) :\n",
    "    inp = inp.numpy().transpose((1,2,0))\n",
    "    mean = np.array([0.485,0.456,0.406])\n",
    "    std = np.array([0.229, 0.224,0.225])\n",
    "    inp = std * inp + mean\n",
    "    inp = np.clip(inp, 0,1)\n",
    "    plt.imshow(inp)"
   ]
  },
  {
   "cell_type": "code",
   "execution_count": 3,
   "metadata": {},
   "outputs": [],
   "source": [
    "path = '/home/pirl/Joshua/PyTorch/data/dogsandcats/'"
   ]
  },
  {
   "cell_type": "code",
   "execution_count": 4,
   "metadata": {},
   "outputs": [
    {
     "name": "stdout",
     "output_type": "stream",
     "text": [
      "Total no of images 0\n"
     ]
    }
   ],
   "source": [
    "# 폴더 안에 모든 파일 목록을 읽음\n",
    "\n",
    "files = glob(os.path.join(path,'*/*.jpg'))\n",
    "\n",
    "print(f'Total no of images {len(files)}')\n",
    "\n",
    "no_of_images = 25000\n",
    "no_of_images = len(files)"
   ]
  },
  {
   "cell_type": "code",
   "execution_count": 5,
   "metadata": {},
   "outputs": [
    {
     "data": {
      "text/plain": [
       "0.0"
      ]
     },
     "execution_count": 5,
     "metadata": {},
     "output_type": "execute_result"
    }
   ],
   "source": [
    "no_of_images*0.8"
   ]
  },
  {
   "cell_type": "code",
   "execution_count": 79,
   "metadata": {},
   "outputs": [],
   "source": [
    "# 데이터 집합을 만드는 데 사용할 셔플 색인 생성\n",
    "\n",
    "shuffle = np.random.permutation(no_of_images)"
   ]
  },
  {
   "cell_type": "code",
   "execution_count": 80,
   "metadata": {},
   "outputs": [],
   "source": [
    "# 검증 이미지를 저장할 검증용 디렉토리 생성\n",
    "os.mkdir(os.path.join(path,'valid'))"
   ]
  },
  {
   "cell_type": "code",
   "execution_count": 81,
   "metadata": {},
   "outputs": [],
   "source": [
    "# 레이블명으로 디렉토리 생성\n",
    "\n",
    "for t in ['train','valid'] :\n",
    "    for folder in ['dog/','cat/']:\n",
    "        os.mkdir(os.path.join(path,t,folder))"
   ]
  },
  {
   "cell_type": "code",
   "execution_count": 67,
   "metadata": {},
   "outputs": [
    {
     "data": {
      "text/plain": [
       "'dog'"
      ]
     },
     "execution_count": 67,
     "metadata": {},
     "output_type": "execute_result"
    }
   ],
   "source": [
    "folder = files[i].split('/')[-1].split('.')[0]\n",
    "folder"
   ]
  },
  {
   "cell_type": "code",
   "execution_count": 54,
   "metadata": {},
   "outputs": [
    {
     "data": {
      "text/plain": [
       "'dog.2647.jpg'"
      ]
     },
     "execution_count": 54,
     "metadata": {},
     "output_type": "execute_result"
    }
   ],
   "source": [
    "image = files[i].split('/')[-1];image"
   ]
  },
  {
   "cell_type": "code",
   "execution_count": 82,
   "metadata": {},
   "outputs": [],
   "source": [
    "# valid 폴더에 이미지 2000장 복사\n",
    "\n",
    "for i in shuffle[:2000]:\n",
    "    #shutil.copyfile(files[i],'../chapter3/dogsandcats/valid/')\n",
    "    folder = files[i].split('/')[-1].split('.')[0]\n",
    "    image = files[i].split('/')[-1]\n",
    "    os.rename(files[i],os.path.join(path,'valid',folder,image))\n",
    "\n"
   ]
  },
  {
   "cell_type": "code",
   "execution_count": 85,
   "metadata": {},
   "outputs": [],
   "source": [
    "# train 폴더에 이미지 2000장 복사\n",
    "\n",
    "for i in shuffle[2000:]:\n",
    "    #shutil.copyfile(files[i],'../chapter3/dogsandcats/valid/')\n",
    "    folder = files[i].split('/')[-1].split('.')[0]\n",
    "    image = files[i].split('/')[-1]\n",
    "    os.rename(files[i],os.path.join(path,'train',folder,image))\n",
    "\n"
   ]
  },
  {
   "cell_type": "markdown",
   "metadata": {},
   "source": [
    "## GPU 가용상태 확인"
   ]
  },
  {
   "cell_type": "code",
   "execution_count": 6,
   "metadata": {},
   "outputs": [],
   "source": [
    "if torch.cuda.is_available():\n",
    "    is_cuda = True"
   ]
  },
  {
   "cell_type": "code",
   "execution_count": 7,
   "metadata": {},
   "outputs": [
    {
     "data": {
      "text/plain": [
       "True"
      ]
     },
     "execution_count": 7,
     "metadata": {},
     "output_type": "execute_result"
    }
   ],
   "source": [
    "torch.cuda.is_available()"
   ]
  },
  {
   "cell_type": "code",
   "execution_count": 8,
   "metadata": {},
   "outputs": [],
   "source": [
    "simple_transform = transforms.Compose([transforms.Resize((224,224))\n",
    "                                       ,transforms.ToTensor()\n",
    "                                       ,transforms.Normalize([0.485, 0.456, 0.406], [0.229, 0.224, 0.225])])\n",
    "train = ImageFolder('/home/pirl/Joshua/PyTorch/data/dogsandcats/train/',simple_transform)\n",
    "valid = ImageFolder('/home/pirl/Joshua/PyTorch/data/dogsandcats/valid/',simple_transform)"
   ]
  },
  {
   "cell_type": "markdown",
   "metadata": {},
   "source": [
    "---\n",
    "* class_to_idx : 데이터 셋에서 사용하는 각 분류 클래스와 대응되는 인덱스 정보를 제공\n",
    "+ classes : 분류 클래스 목록을 제공\n",
    "---"
   ]
  },
  {
   "cell_type": "code",
   "execution_count": 9,
   "metadata": {},
   "outputs": [
    {
     "name": "stdout",
     "output_type": "stream",
     "text": [
      "{'cat': 0, 'dog': 1}\n",
      "['cat', 'dog']\n"
     ]
    }
   ],
   "source": [
    "print(train.class_to_idx)\n",
    "print(train.classes) \n"
   ]
  },
  {
   "cell_type": "code",
   "execution_count": 10,
   "metadata": {},
   "outputs": [
    {
     "data": {
      "image/png": "[encoded data removed]",
      "text/plain": [
       "<Figure size 432x288 with 1 Axes>"
      ]
     },
     "metadata": {
      "needs_background": "light"
     },
     "output_type": "display_data"
    }
   ],
   "source": [
    "imshow(train[50][0])"
   ]
  },
  {
   "cell_type": "markdown",
   "metadata": {},
   "source": [
    "## 배치 처리 형태 파이토치로 Tensor 로딩하기"
   ]
  },
  {
   "cell_type": "markdown",
   "metadata": {},
   "source": [
    "#### DataLoader 클래스는 많은 옵션을 제공\n",
    "- shuffle : True로 설정하면 DataLoader가 호출될 때 마다 이지가 임의의 순서로 섞인다.\n",
    "- num_workers : 병렬 처리를 담당. 일반적으로 컴퓨터에서 사용할 수 있는 코어 수보다 작게 설정"
   ]
  },
  {
   "cell_type": "code",
   "execution_count": 28,
   "metadata": {},
   "outputs": [],
   "source": [
    "train_data_gen = torch.utils.data.DataLoader(train,shuffle=True,batch_size=64,num_workers=3)\n",
    "valid_data_gen = torch.utils.data.DataLoader(valid,batch_size=64,num_workers=3)"
   ]
  },
  {
   "cell_type": "code",
   "execution_count": 29,
   "metadata": {},
   "outputs": [],
   "source": [
    "dataset_sizes = {'train':len(train_data_gen.dataset),'valid':len(valid_data_gen.dataset)}"
   ]
  },
  {
   "cell_type": "code",
   "execution_count": 30,
   "metadata": {},
   "outputs": [],
   "source": [
    "dataloaders = {'train':train_data_gen,'valid':valid_data_gen}"
   ]
  },
  {
   "cell_type": "markdown",
   "metadata": {},
   "source": [
    "## 모델 설정 네트워크 만들기"
   ]
  },
  {
   "cell_type": "code",
   "execution_count": 15,
   "metadata": {},
   "outputs": [],
   "source": [
    "model_ft = models.resnet18(pretrained=True) # Resnet 알고리즘의 인스턴스를 생성\n",
    "num_ftrs = model_ft.fc.in_features\n",
    "model_ft.fc = nn.Linear(num_ftrs, 2)\n",
    "\n",
    "if is_cuda :\n",
    "    model_ft = model_ft.cuda()"
   ]
  },
  {
   "cell_type": "markdown",
   "metadata": {},
   "source": [
    "- resnet18()에서 pretrained=True 설정 시 ImageNet의 미리 학습한 가중치가 설정된다."
   ]
  },
  {
   "cell_type": "code",
   "execution_count": 16,
   "metadata": {},
   "outputs": [
    {
     "data": {
      "text/plain": [
       "ResNet(\n",
       "  (conv1): Conv2d(3, 64, kernel_size=(7, 7), stride=(2, 2), padding=(3, 3), bias=False)\n",
       "  (bn1): BatchNorm2d(64, eps=1e-05, momentum=0.1, affine=True, track_running_stats=True)\n",
       "  (relu): ReLU(inplace=True)\n",
       "  (maxpool): MaxPool2d(kernel_size=3, stride=2, padding=1, dilation=1, ceil_mode=False)\n",
       "  (layer1): Sequential(\n",
       "    (0): BasicBlock(\n",
       "      (conv1): Conv2d(64, 64, kernel_size=(3, 3), stride=(1, 1), padding=(1, 1), bias=False)\n",
       "      (bn1): BatchNorm2d(64, eps=1e-05, momentum=0.1, affine=True, track_running_stats=True)\n",
       "      (relu): ReLU(inplace=True)\n",
       "      (conv2): Conv2d(64, 64, kernel_size=(3, 3), stride=(1, 1), padding=(1, 1), bias=False)\n",
       "      (bn2): BatchNorm2d(64, eps=1e-05, momentum=0.1, affine=True, track_running_stats=True)\n",
       "    )\n",
       "    (1): BasicBlock(\n",
       "      (conv1): Conv2d(64, 64, kernel_size=(3, 3), stride=(1, 1), padding=(1, 1), bias=False)\n",
       "      (bn1): BatchNorm2d(64, eps=1e-05, momentum=0.1, affine=True, track_running_stats=True)\n",
       "      (relu): ReLU(inplace=True)\n",
       "      (conv2): Conv2d(64, 64, kernel_size=(3, 3), stride=(1, 1), padding=(1, 1), bias=False)\n",
       "      (bn2): BatchNorm2d(64, eps=1e-05, momentum=0.1, affine=True, track_running_stats=True)\n",
       "    )\n",
       "  )\n",
       "  (layer2): Sequential(\n",
       "    (0): BasicBlock(\n",
       "      (conv1): Conv2d(64, 128, kernel_size=(3, 3), stride=(2, 2), padding=(1, 1), bias=False)\n",
       "      (bn1): BatchNorm2d(128, eps=1e-05, momentum=0.1, affine=True, track_running_stats=True)\n",
       "      (relu): ReLU(inplace=True)\n",
       "      (conv2): Conv2d(128, 128, kernel_size=(3, 3), stride=(1, 1), padding=(1, 1), bias=False)\n",
       "      (bn2): BatchNorm2d(128, eps=1e-05, momentum=0.1, affine=True, track_running_stats=True)\n",
       "      (downsample): Sequential(\n",
       "        (0): Conv2d(64, 128, kernel_size=(1, 1), stride=(2, 2), bias=False)\n",
       "        (1): BatchNorm2d(128, eps=1e-05, momentum=0.1, affine=True, track_running_stats=True)\n",
       "      )\n",
       "    )\n",
       "    (1): BasicBlock(\n",
       "      (conv1): Conv2d(128, 128, kernel_size=(3, 3), stride=(1, 1), padding=(1, 1), bias=False)\n",
       "      (bn1): BatchNorm2d(128, eps=1e-05, momentum=0.1, affine=True, track_running_stats=True)\n",
       "      (relu): ReLU(inplace=True)\n",
       "      (conv2): Conv2d(128, 128, kernel_size=(3, 3), stride=(1, 1), padding=(1, 1), bias=False)\n",
       "      (bn2): BatchNorm2d(128, eps=1e-05, momentum=0.1, affine=True, track_running_stats=True)\n",
       "    )\n",
       "  )\n",
       "  (layer3): Sequential(\n",
       "    (0): BasicBlock(\n",
       "      (conv1): Conv2d(128, 256, kernel_size=(3, 3), stride=(2, 2), padding=(1, 1), bias=False)\n",
       "      (bn1): BatchNorm2d(256, eps=1e-05, momentum=0.1, affine=True, track_running_stats=True)\n",
       "      (relu): ReLU(inplace=True)\n",
       "      (conv2): Conv2d(256, 256, kernel_size=(3, 3), stride=(1, 1), padding=(1, 1), bias=False)\n",
       "      (bn2): BatchNorm2d(256, eps=1e-05, momentum=0.1, affine=True, track_running_stats=True)\n",
       "      (downsample): Sequential(\n",
       "        (0): Conv2d(128, 256, kernel_size=(1, 1), stride=(2, 2), bias=False)\n",
       "        (1): BatchNorm2d(256, eps=1e-05, momentum=0.1, affine=True, track_running_stats=True)\n",
       "      )\n",
       "    )\n",
       "    (1): BasicBlock(\n",
       "      (conv1): Conv2d(256, 256, kernel_size=(3, 3), stride=(1, 1), padding=(1, 1), bias=False)\n",
       "      (bn1): BatchNorm2d(256, eps=1e-05, momentum=0.1, affine=True, track_running_stats=True)\n",
       "      (relu): ReLU(inplace=True)\n",
       "      (conv2): Conv2d(256, 256, kernel_size=(3, 3), stride=(1, 1), padding=(1, 1), bias=False)\n",
       "      (bn2): BatchNorm2d(256, eps=1e-05, momentum=0.1, affine=True, track_running_stats=True)\n",
       "    )\n",
       "  )\n",
       "  (layer4): Sequential(\n",
       "    (0): BasicBlock(\n",
       "      (conv1): Conv2d(256, 512, kernel_size=(3, 3), stride=(2, 2), padding=(1, 1), bias=False)\n",
       "      (bn1): BatchNorm2d(512, eps=1e-05, momentum=0.1, affine=True, track_running_stats=True)\n",
       "      (relu): ReLU(inplace=True)\n",
       "      (conv2): Conv2d(512, 512, kernel_size=(3, 3), stride=(1, 1), padding=(1, 1), bias=False)\n",
       "      (bn2): BatchNorm2d(512, eps=1e-05, momentum=0.1, affine=True, track_running_stats=True)\n",
       "      (downsample): Sequential(\n",
       "        (0): Conv2d(256, 512, kernel_size=(1, 1), stride=(2, 2), bias=False)\n",
       "        (1): BatchNorm2d(512, eps=1e-05, momentum=0.1, affine=True, track_running_stats=True)\n",
       "      )\n",
       "    )\n",
       "    (1): BasicBlock(\n",
       "      (conv1): Conv2d(512, 512, kernel_size=(3, 3), stride=(1, 1), padding=(1, 1), bias=False)\n",
       "      (bn1): BatchNorm2d(512, eps=1e-05, momentum=0.1, affine=True, track_running_stats=True)\n",
       "      (relu): ReLU(inplace=True)\n",
       "      (conv2): Conv2d(512, 512, kernel_size=(3, 3), stride=(1, 1), padding=(1, 1), bias=False)\n",
       "      (bn2): BatchNorm2d(512, eps=1e-05, momentum=0.1, affine=True, track_running_stats=True)\n",
       "    )\n",
       "  )\n",
       "  (avgpool): AdaptiveAvgPool2d(output_size=(1, 1))\n",
       "  (fc): Linear(in_features=512, out_features=2, bias=True)\n",
       ")"
      ]
     },
     "execution_count": 16,
     "metadata": {},
     "output_type": "execute_result"
    }
   ],
   "source": [
    "model_ft"
   ]
  },
  {
   "cell_type": "markdown",
   "metadata": {},
   "source": [
    "- 지금 진행하는 분류 문제는 2가지(개와 고양이)만 분류하는 것이기 때문에 \n",
    "- 선형레이어인 ResNet 모델의 마지막 레이어의 출력 Feature를 2로 변경한다."
   ]
  },
  {
   "cell_type": "code",
   "execution_count": 33,
   "metadata": {},
   "outputs": [],
   "source": [
    "model_ft.fc = nn.Linear(num_ftrs, 2)\n",
    "if is_cuda :\n",
    "    model_ft = model_ft.cuda()"
   ]
  },
  {
   "cell_type": "markdown",
   "metadata": {},
   "source": [
    "## 모델 학습"
   ]
  },
  {
   "cell_type": "code",
   "execution_count": 23,
   "metadata": {},
   "outputs": [],
   "source": [
    "# 오차 함수와 옵티마이저\n",
    "\n",
    "learning_rate = 0.001\n",
    "criterion = nn.CrossEntropyLoss() # 오차함수 생성\n",
    "# Stochastic Gradient Descent 기반 옵티마이저 생성\n",
    "optimizer_ft = optim.SGD(model_ft.parameters(),lr=learning_rate,momentum=0.9)\n",
    "# 학습률을 동적으로 변경하는 기능인 StepLR\n",
    "exp_lr_scheduler = lr_scheduler.StepLR(optimizer_ft, step_size=7, gamma=0.1)"
   ]
  },
  {
   "cell_type": "code",
   "execution_count": 36,
   "metadata": {},
   "outputs": [],
   "source": [
    "def train_model(model, criterion, optimizer, scheduler, num_epochs=5):\n",
    "    since = time.time()\n",
    "    \n",
    "    best_model_wts = model.state_dict()\n",
    "    best_acc = 0.0\n",
    "    \n",
    "    for epoch in range(num_epochs):\n",
    "        print('Epoch {}/{}'.format(epoch, num_epochs - 1))\n",
    "        print('-' * 10)\n",
    "        \n",
    "        # 각 Epoch은 학습 단계와 검증 단계를 거침\n",
    "        for phase in ['train','valid']:\n",
    "            if phase == 'train':\n",
    "                scheduler.step()\n",
    "                model.train(True)\n",
    "            else:\n",
    "                model.train(False)\n",
    "                \n",
    "            running_loss = 0.0\n",
    "            running_corrects = 0\n",
    "            \n",
    "            # 데이터 반복\n",
    "            for data in dataloaders[phase]:\n",
    "                # 입력 데이터 가져오기, 데이터 획득\n",
    "                inputs, labels = data\n",
    "                \n",
    "                # 데이터를 Variable로 만듦, 데이터 래핑(Variable)\n",
    "                if torch.cuda.is_available():\n",
    "                    inputs = Variable(inputs.cuda())\n",
    "                    labels = Variable(labels.cuda())\n",
    "                else:\n",
    "                    inputs, labels = Variable(inputs), Variable(labels)\n",
    "                \n",
    "                # 파라미터 기울기 초기화\n",
    "                optimizer.zero_grad()\n",
    "                \n",
    "                # forward\n",
    "                outputs = model(inputs)\n",
    "                _, preds = torch.max(outputs.data, 1)\n",
    "                loss = criterion(outputs, labels)\n",
    "                \n",
    "                # 학습 단계에서만 수행, 역전파 + 옵티마이즈(최적화)\n",
    "                if phase == 'train':\n",
    "                    loss.backward()\n",
    "                    optimizer.step()\n",
    "                    \n",
    "                # 통계\n",
    "                running_loss += loss.data\n",
    "                running_corrects += torch.sum(preds == labels.data)\n",
    "            \n",
    "            epoch_loss = running_loss.item() / dataset_sizes[phase]\n",
    "            epoch_acc = running_corrects.item() / dataset_sizes[phase]\n",
    "            \n",
    "            print('{} Loss: {:.4f} Acc: {:.4f}'.format(phase, epoch_loss, epoch_acc))\n",
    "            \n",
    "            # 모델 복사(Deep Copy)\n",
    "            if phase == 'valid' and epoch_acc > best_acc:\n",
    "                best_acc = epoch_acc\n",
    "                best_model_wts = model.state_dict()\n",
    "        print()\n",
    "        \n",
    "    time_elapsed = time.time() - since\n",
    "    print(\"Training complete in {:.0f}m {:.0f}\".format(time_elapsed // 60, time_elapsed % 60))\n",
    "    print(\"Best Validation Accuracy : {:4f}\".format(best_acc))\n",
    "    \n",
    "    # 최적의 모델 weights 로딩\n",
    "    \n",
    "    model.load_state_dict(best_model_wts)\n",
    "    return model"
   ]
  },
  {
   "cell_type": "markdown",
   "metadata": {},
   "source": [
    "1. 모델에 이미지를 전달하고 오차를 계산\n",
    "2. 학습 단계에서 역전파를 수행, 유효성 검사/테스트 단계에서는 가중치를 업데이트 하지 않음\n",
    "3. 에폭 동안 각 배치에서 발생하는 오차를 누적\n",
    "4. 최상의 모델이 저장되고 검증 정확도를 인쇄"
   ]
  },
  {
   "cell_type": "code",
   "execution_count": 37,
   "metadata": {},
   "outputs": [
    {
     "name": "stdout",
     "output_type": "stream",
     "text": [
      "Epoch 0/23\n",
      "----------\n",
      "train Loss: 0.0019 Acc: 0.9581\n",
      "valid Loss: 0.0010 Acc: 0.9775\n",
      "\n",
      "Epoch 1/23\n",
      "----------\n",
      "train Loss: 0.0007 Acc: 0.9856\n",
      "valid Loss: 0.0007 Acc: 0.9815\n",
      "\n",
      "Epoch 2/23\n",
      "----------\n",
      "train Loss: 0.0005 Acc: 0.9910\n",
      "valid Loss: 0.0007 Acc: 0.9845\n",
      "\n",
      "Epoch 3/23\n",
      "----------\n",
      "train Loss: 0.0004 Acc: 0.9934\n",
      "valid Loss: 0.0007 Acc: 0.9850\n",
      "\n",
      "Epoch 4/23\n",
      "----------\n",
      "train Loss: 0.0004 Acc: 0.9933\n",
      "valid Loss: 0.0007 Acc: 0.9845\n",
      "\n",
      "Epoch 5/23\n",
      "----------\n",
      "train Loss: 0.0004 Acc: 0.9933\n",
      "valid Loss: 0.0007 Acc: 0.9850\n",
      "\n",
      "Epoch 6/23\n",
      "----------\n",
      "train Loss: 0.0004 Acc: 0.9939\n",
      "valid Loss: 0.0007 Acc: 0.9835\n",
      "\n",
      "Epoch 7/23\n",
      "----------\n",
      "train Loss: 0.0004 Acc: 0.9933\n",
      "valid Loss: 0.0007 Acc: 0.9855\n",
      "\n",
      "Epoch 8/23\n",
      "----------\n",
      "train Loss: 0.0003 Acc: 0.9942\n",
      "valid Loss: 0.0007 Acc: 0.9845\n",
      "\n",
      "Epoch 9/23\n",
      "----------\n",
      "train Loss: 0.0003 Acc: 0.9946\n",
      "valid Loss: 0.0007 Acc: 0.9855\n",
      "\n",
      "Epoch 10/23\n",
      "----------\n",
      "train Loss: 0.0003 Acc: 0.9947\n",
      "valid Loss: 0.0007 Acc: 0.9855\n",
      "\n",
      "Epoch 11/23\n",
      "----------\n",
      "train Loss: 0.0003 Acc: 0.9943\n",
      "valid Loss: 0.0007 Acc: 0.9855\n",
      "\n",
      "Epoch 12/23\n",
      "----------\n",
      "train Loss: 0.0003 Acc: 0.9944\n",
      "valid Loss: 0.0007 Acc: 0.9850\n",
      "\n",
      "Epoch 13/23\n",
      "----------\n",
      "train Loss: 0.0003 Acc: 0.9948\n",
      "valid Loss: 0.0007 Acc: 0.9850\n",
      "\n",
      "Epoch 14/23\n",
      "----------\n",
      "train Loss: 0.0003 Acc: 0.9947\n",
      "valid Loss: 0.0007 Acc: 0.9855\n",
      "\n",
      "Epoch 15/23\n",
      "----------\n",
      "train Loss: 0.0003 Acc: 0.9951\n",
      "valid Loss: 0.0007 Acc: 0.9860\n",
      "\n",
      "Epoch 16/23\n",
      "----------\n",
      "train Loss: 0.0003 Acc: 0.9950\n",
      "valid Loss: 0.0007 Acc: 0.9855\n",
      "\n",
      "Epoch 17/23\n",
      "----------\n",
      "train Loss: 0.0003 Acc: 0.9943\n",
      "valid Loss: 0.0007 Acc: 0.9850\n",
      "\n",
      "Epoch 18/23\n",
      "----------\n",
      "train Loss: 0.0003 Acc: 0.9947\n",
      "valid Loss: 0.0007 Acc: 0.9825\n",
      "\n",
      "Epoch 19/23\n",
      "----------\n",
      "train Loss: 0.0003 Acc: 0.9944\n",
      "valid Loss: 0.0007 Acc: 0.9855\n",
      "\n",
      "Epoch 20/23\n",
      "----------\n",
      "train Loss: 0.0003 Acc: 0.9943\n",
      "valid Loss: 0.0007 Acc: 0.9845\n",
      "\n",
      "Epoch 21/23\n",
      "----------\n",
      "train Loss: 0.0003 Acc: 0.9948\n",
      "valid Loss: 0.0007 Acc: 0.9855\n",
      "\n",
      "Epoch 22/23\n",
      "----------\n",
      "train Loss: 0.0003 Acc: 0.9947\n",
      "valid Loss: 0.0007 Acc: 0.9855\n",
      "\n",
      "Epoch 23/23\n",
      "----------\n",
      "train Loss: 0.0003 Acc: 0.9951\n",
      "valid Loss: 0.0007 Acc: 0.9855\n",
      "\n",
      "Training complete in 19m 24\n",
      "Best Validation Accuracy : 0.986000\n",
      "CPU times: user 15min 15s, sys: 1min 8s, total: 16min 23s\n",
      "Wall time: 19min 23s\n"
     ]
    }
   ],
   "source": [
    "%%time\n",
    "model_ft = train_model(model_ft,criterion,optimizer_ft,exp_lr_scheduler,num_epochs=24)"
   ]
  },
  {
   "cell_type": "code",
   "execution_count": null,
   "metadata": {},
   "outputs": [],
   "source": []
  }
 ],
 "metadata": {
  "kernelspec": {
   "display_name": "pytorch",
   "language": "python",
   "name": "pytorch"
  },
  "language_info": {
   "codemirror_mode": {
    "name": "ipython",
    "version": 3
   },
   "file_extension": ".py",
   "mimetype": "text/x-python",
   "name": "python",
   "nbconvert_exporter": "python",
   "pygments_lexer": "ipython3",
   "version": "3.6.10"
  }
 },
 "nbformat": 4,
 "nbformat_minor": 4
}
